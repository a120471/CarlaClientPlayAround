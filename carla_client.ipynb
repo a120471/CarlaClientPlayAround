{
 "cells": [
  {
   "cell_type": "code",
   "execution_count": 7,
   "metadata": {},
   "outputs": [],
   "source": [
    "# Document about Python API: https://carla.readthedocs.io/en/latest/python_api/"
   ]
  },
  {
   "cell_type": "markdown",
   "metadata": {},
   "source": [
    "Document about Python API: https://carla.readthedocs.io/en/latest/python_api/"
   ]
  },
  {
   "cell_type": "code",
   "execution_count": 8,
   "metadata": {},
   "outputs": [],
   "source": [
    "import carla\n",
    "\n",
    "INTERVAL_TIME_MS = 10\n",
    "\n",
    "client = carla.Client('localhost', 2000)"
   ]
  },
  {
   "cell_type": "code",
   "execution_count": 9,
   "metadata": {},
   "outputs": [],
   "source": [
    "# Load a new world with a specific layer.\n",
    "# Ref: https://carla.readthedocs.io/en/latest/core_map/#layered-maps\n",
    "world = client.load_world('Town01_Opt', map_layers=carla.MapLayer.Ground)"
   ]
  },
  {
   "cell_type": "code",
   "execution_count": 10,
   "metadata": {},
   "outputs": [],
   "source": [
    "# Set up the simulator in synchronous mode.\n",
    "settings = world.get_settings()\n",
    "settings.synchronous_mode = True\n",
    "settings.fixed_delta_seconds = INTERVAL_TIME_MS / 1000\n",
    "world.apply_settings(settings)\n",
    "\n",
    "traffic_manager = client.get_trafficmanager()\n",
    "traffic_manager.set_synchronous_mode(True)"
   ]
  },
  {
   "cell_type": "code",
   "execution_count": 11,
   "metadata": {},
   "outputs": [],
   "source": [
    "# Generate Agents.\n",
    "\n",
    "\n",
    "\n",
    "# Test code\n",
    "# Ref: https://carla.readthedocs.io/en/latest/tuto_G_traffic_manager/#specify-routes-for-vehicles\n",
    "# ATTENTION: it NEEDS information from hdmap to enable autopilot, which is not feasible in our case.\n",
    "# 我们可能需要自己实现插值算法，或者直接用virtual_sim result bag中的结果…\n",
    "spawn_points = world.get_map().get_spawn_points()\n",
    "# Draw the spawn point locations as numbers in the map\n",
    "for i, spawn_point in enumerate(spawn_points):\n",
    "  world.debug.draw_string(spawn_point.location, str(i), life_time=100)\n",
    "# Route\n",
    "start_point =  spawn_points[162]\n",
    "route_indices = [17, 91, 221]\n",
    "route_pos = [spawn_points[ind].location for ind in route_indices]\n",
    "vehicle_blueprints = world.get_blueprint_library().filter('*vehicle*')\n",
    "vehicle = world.try_spawn_actor(vehicle_blueprints[0], start_point)\n",
    "vehicle.set_autopilot(True)\n",
    "traffic_manager.set_path(vehicle, route_pos)"
   ]
  },
  {
   "cell_type": "code",
   "execution_count": 12,
   "metadata": {},
   "outputs": [
    {
     "ename": "",
     "evalue": "",
     "output_type": "error",
     "traceback": [
      "\u001b[1;31mCanceled future for execute_request message before replies were done"
     ]
    },
    {
     "ename": "",
     "evalue": "",
     "output_type": "error",
     "traceback": [
      "\u001b[1;31mThe Kernel crashed while executing code in the the current cell or a previous cell. Please review the code in the cell(s) to identify a possible cause of the failure. Click <a href='https://aka.ms/vscodeJupyterKernelCrash'>here</a> for more info. View Jupyter <a href='command:jupyter.viewOutput'>log</a> for further details."
     ]
    }
   ],
   "source": [
    "current_timestamp = 0\n",
    "\n",
    "# Call Start.\n",
    "\n",
    "# Send route command.\n",
    "\n",
    "while True:\n",
    "  # Convert and send ego pose for every 10ms.\n",
    "\n",
    "  # Convert and send canbus data for every 10ms.\n",
    "\n",
    "  # Convert and send tracked objects for every 67ms.\n",
    "\n",
    "  # Send an empty obstacle list for every 100ms.\n",
    "  # Send an empty construction zone for every 67ms.\n",
    "  # Send an empty traffic lights data for every 100ms.\n",
    "\n",
    "  # Call RunTill.\n",
    "\n",
    "  # Call tick in synchronous mode.\n",
    "  world.tick()\n",
    "  current_timestamp += INTERVAL_TIME_MS\n",
    "\n",
    "# Call End.\n"
   ]
  }
 ],
 "metadata": {
  "kernelspec": {
   "display_name": "Python 3.7.13 ('carla')",
   "language": "python",
   "name": "python3"
  },
  "language_info": {
   "codemirror_mode": {
    "name": "ipython",
    "version": 3
   },
   "file_extension": ".py",
   "mimetype": "text/x-python",
   "name": "python",
   "nbconvert_exporter": "python",
   "pygments_lexer": "ipython3",
   "version": "3.7.13"
  },
  "orig_nbformat": 4,
  "vscode": {
   "interpreter": {
    "hash": "a0da0ee50a2669c7e369cc17dbac8cf9b21a16dac61a1cd0f3e164b523f4059c"
   }
  }
 },
 "nbformat": 4,
 "nbformat_minor": 2
}
